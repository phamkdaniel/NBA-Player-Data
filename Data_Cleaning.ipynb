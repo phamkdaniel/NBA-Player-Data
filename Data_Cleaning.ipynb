{
 "cells": [
  {
   "cell_type": "code",
   "execution_count": null,
   "metadata": {},
   "outputs": [],
   "source": [
    "# load dependencies\n",
    "import pandas as pd"
   ]
  },
  {
   "cell_type": "code",
   "execution_count": null,
   "metadata": {},
   "outputs": [],
   "source": [
    "# load data and set index\n",
    "data = pd.read_csv('NBA_player_stats_2019_raw.csv', encoding = \"utf-8\")\n",
    "data.set_index('rank', inplace=True)\n",
    "data\n"
   ]
  },
  {
   "cell_type": "code",
   "execution_count": null,
   "metadata": {},
   "outputs": [],
   "source": [
    "# create df with only rows with nan values\n",
    "def nans(data): return data[data.isnull().any(axis=1)]\n",
    "nans_df = nans(data)\n",
    "nans_df"
   ]
  },
  {
   "cell_type": "code",
   "execution_count": null,
   "metadata": {},
   "outputs": [],
   "source": [
    "# locate which columns contain the nan values\n",
    "nans_df.loc[:, nans_df.isna().any()]"
   ]
  },
  {
   "cell_type": "code",
   "execution_count": null,
   "metadata": {},
   "outputs": [],
   "source": [
    "# fill nan values\n",
    "data = data.fillna(0)"
   ]
  },
  {
   "cell_type": "code",
   "execution_count": null,
   "metadata": {},
   "outputs": [],
   "source": [
    "# create dataframe with only players who switched teams during the season\n",
    "multiteam_df = data[data['team_id']=='TOT']\n",
    "multiteam_df"
   ]
  },
  {
   "cell_type": "code",
   "execution_count": null,
   "metadata": {},
   "outputs": [],
   "source": [
    "# turn dataframe into list of names  \n",
    "name_list = multiteam_df['player'].tolist()\n",
    "# remove rows that don't have team_id \"TOT\" for players who changed teams during the season\n",
    "nototals_df = data[~data['player'].isin(name_list)]\n"
   ]
  },
  {
   "cell_type": "code",
   "execution_count": null,
   "metadata": {},
   "outputs": [],
   "source": [
    "nototals_df"
   ]
  },
  {
   "cell_type": "code",
   "execution_count": null,
   "metadata": {},
   "outputs": [],
   "source": [
    "# concactenate dataframe with players with \"TOT\" to dataframe containing the rest of the players\n",
    "onlytotals_df = pd.concat([nototals_df,multiteam_df],ignore_index=True)\n",
    "onlytotals_df"
   ]
  },
  {
   "cell_type": "code",
   "execution_count": null,
   "metadata": {},
   "outputs": [],
   "source": [
    "# remove players who didn't play more than 8 games or more than 200 minutes, to remove small sample size players from data\n",
    "playtime_df = onlytotals_df[(onlytotals_df['g']>8)]\n",
    "playtime_df = onlytotals_df[(onlytotals_df['mp']>200)]\n",
    "playtime_df\n"
   ]
  },
  {
   "cell_type": "code",
   "execution_count": null,
   "metadata": {},
   "outputs": [],
   "source": [
    "# find players with unicode characters\n",
    "playtime_df.loc[playtime_df['player'].str.contains('Dario')]\n"
   ]
  },
  {
   "cell_type": "code",
   "execution_count": null,
   "metadata": {},
   "outputs": [],
   "source": [
    "# convert player names with unicode characters to names without unicode characters\n",
    "playtime_df[\"player\"]= playtime_df[\"player\"].str.replace(\"Álex Abrines\", \"Alex Abrines\", case = False)\n",
    "playtime_df[\"player\"]= playtime_df[\"player\"].str.replace(\"Jonas Valančiūnas\", \"Jonas Valanciunas\", case = False)\n",
    "playtime_df[\"player\"]= playtime_df[\"player\"].str.replace(\"José Calderón\", \"Jose Calderon\", case = False)\n",
    "playtime_df[\"player\"]= playtime_df[\"player\"].str.replace(\"Dāvis Bertāns\", \"Davis Bertans\", case = False)\n",
    "playtime_df[\"player\"]= playtime_df[\"player\"].str.replace(\"Bogdan Bogdanović\", \"Bogdan Bogdanovic\", case = False)\n",
    "playtime_df[\"player\"]= playtime_df[\"player\"].str.replace(\"Bojan Bogdanović\", \"Bojan Bogdanovic\", case = False)\n",
    "playtime_df[\"player\"]= playtime_df[\"player\"].str.replace(\"Luka Dončić\", \"Luka Doncic\", case = False)\n",
    "playtime_df[\"player\"]= playtime_df[\"player\"].str.replace(\"Goran Dragić\", \"Goran Dragic\", case = False)\n",
    "playtime_df[\"player\"]= playtime_df[\"player\"].str.replace(\"Cristiano Felício\", \"Cristiano Felicio\", case = False)\n",
    "playtime_df[\"player\"]= playtime_df[\"player\"].str.replace(\"Juan Hernangómez\", \"Juan Hernangomez\", case = False)\n",
    "playtime_df[\"player\"]= playtime_df[\"player\"].str.replace(\"Willy Hernangómez\", \"Willy Hernangomez\", case = False)\n",
    "playtime_df[\"player\"]= playtime_df[\"player\"].str.replace(\"Nenê Hilário\", \"Nene Hilario\", case = False)\n",
    "playtime_df[\"player\"]= playtime_df[\"player\"].str.replace(\"Ersan İlyasova\", \"Ersan Ilyasova\", case = False)\n",
    "playtime_df[\"player\"]= playtime_df[\"player\"].str.replace(\"Nikola Jokić\", \"Nikola Jokic\", case = False)\n",
    "playtime_df[\"player\"]= playtime_df[\"player\"].str.replace(\"Nikola Vučević\", \"Nikola Vucevic\", case = False)\n",
    "playtime_df[\"player\"]= playtime_df[\"player\"].str.replace(\"Nikola Mirotić\", \"Nikola Mirotic\", case = False)\n",
    "playtime_df[\"player\"]= playtime_df[\"player\"].str.replace(\"Jusuf Nurkić\", \"Jusuf Nurkic\", case = False)\n",
    "playtime_df[\"player\"]= playtime_df[\"player\"].str.replace(\"Jakob Pöltl\", \"Jakob Poetl\", case = False)\n",
    "playtime_df[\"player\"]= playtime_df[\"player\"].str.replace(\"Tomáš Satoranský\", \"Tomas Satoransky\", case = False)\n",
    "playtime_df[\"player\"]= playtime_df[\"player\"].str.replace(\"Dennis Schröder\", \"Dennis Schroeder\", case = False)\n",
    "playtime_df[\"player\"]= playtime_df[\"player\"].str.replace(\"Ante Žižić\", \"Ante Zizic\", case = False)\n",
    "playtime_df[\"player\"]= playtime_df[\"player\"].str.replace(\"Timothé Luwawu-Cabarrot\", \"Timothe Luwawu-Cabarrot\", case = False)\n",
    "playtime_df[\"player\"]= playtime_df[\"player\"].str.replace(\"Boban Marjanović\", \"Boban Marjanovic\", case = False)\n",
    "playtime_df[\"player\"]= playtime_df[\"player\"].str.replace(\"Dario Šarić\", \"Dario Saric\", case = False)"
   ]
  },
  {
   "cell_type": "code",
   "execution_count": null,
   "metadata": {},
   "outputs": [],
   "source": [
    "# convert cleaned dataframe to csv\n",
    "playtime_df.to_csv('nba_data.csv', encoding='utf-8')"
   ]
  }
 ],
 "metadata": {
  "kernelspec": {
   "display_name": "Python 3",
   "language": "python",
   "name": "python3"
  },
  "language_info": {
   "codemirror_mode": {
    "name": "ipython",
    "version": 3
   },
   "file_extension": ".py",
   "mimetype": "text/x-python",
   "name": "python",
   "nbconvert_exporter": "python",
   "pygments_lexer": "ipython3",
   "version": "3.6.9"
  }
 },
 "nbformat": 4,
 "nbformat_minor": 2
}
